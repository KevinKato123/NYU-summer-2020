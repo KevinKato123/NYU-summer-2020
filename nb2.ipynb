{
  "cells": [
    {
      "cell_type": "markdown",
      "metadata": {
        "id": "view-in-github",
        "colab_type": "text"
      },
      "source": [
        "<a href=\"https://colab.research.google.com/github/KevinKato123/NYU-summer-2020/blob/master/nb2.ipynb\" target=\"_parent\"><img src=\"https://colab.research.google.com/assets/colab-badge.svg\" alt=\"Open In Colab\"/></a>"
      ]
    },
    {
      "cell_type": "markdown",
      "source": [
        "# Instructions\n",
        "* [go here for live instructions](https://docs.google.com/document/d/1Xtir6QuaGYkSYsbpLFpuMwUUNNEGsWmtLhDk1k3bR8g/edit?usp=sharing)"
      ],
      "metadata": {
        "id": "aZgYprF5w35M"
      }
    },
    {
      "cell_type": "markdown",
      "source": [
        "# Math\n",
        "\n",
        "## Linear algebra\n",
        "* Physics student perspective of vector: Lines in space, with a direction and maginitude with a possible felon of stealing the moon.\n",
        "* CS student perspective of vector: Lists of numbers\n",
        "* scalar: A number that scales vectors\n",
        "* 2 fundamental things we do to vectors:\n",
        "  - Add Vectors\n",
        "  - Scale Vectors\n",
        "\n",
        "* Give an example of each of the above\n",
        "\n"
      ],
      "metadata": {
        "id": "ua6i9it5paw4"
      }
    },
    {
      "cell_type": "markdown",
      "source": [
        "# Ethics\n",
        "* [Algorithm cuts healthcare](https://www.theverge.com/2018/3/21/17144260/healthcare-medicaid-algorithm-arkansas-cerebral-palsy)\n",
        "* [Youtube and conspiracy theories](https://www.nytimes.com/2019/02/19/technology/youtube-conspiracy-stars.html)\n",
        "* [Biased facial recognition](https://www.theverge.com/2019/1/25/18197137/amazon-rekognition-facial-recognition-bias-race-gender)\n",
        "\n"
      ],
      "metadata": {
        "id": "722N61IQoMVr"
      }
    },
    {
      "cell_type": "markdown",
      "source": [
        "# Case study\n",
        "* Topic: Biased Facial Recognition\n",
        "* Link: https://www.theverge.com/2019/1/25/18197137/amazon-rekognition-facial-recognition-bias-race-gender \n",
        "* One sentence summary: AI misread the gender and race of some people especially darker skinned people. \n",
        "* Who was harmed?: Dark skin people and females\n",
        "* Notes:\n",
        " - Light skin women usually get their gender misclassified\n",
        " - Dark skin women get their gender misclassified \n",
        " - Police mugshots don't matchup sometimes\n",
        "* Thoughts:\n",
        "  - AI apparently sucks at recognizing women of certain races\n",
        "  - It is really hard to improve AI\n",
        "  - We don't have any technology so far that can improve AI\n",
        "* Questions:\n",
        "  - Is it possible with today's technology to improve this since almost every major company has failed?\n",
        "  - Can it label transgender people properly?\n",
        "  - Is there a way we can get it to identify mugshots properly since mugshots have been our way as humans to identify criminals?"
      ],
      "metadata": {
        "id": "9RA8wlicotzN"
      }
    },
    {
      "cell_type": "markdown",
      "source": [
        "VIDEO: https://www.youtube.com/watch?v=ixgFtjfO_7Q"
      ],
      "metadata": {
        "id": "Jp9PYzBU_uvs"
      }
    },
    {
      "cell_type": "markdown",
      "source": [
        "# Coding"
      ],
      "metadata": {
        "id": "5IrfjCfsoECN"
      }
    },
    {
      "cell_type": "code",
      "execution_count": 5,
      "metadata": {
        "id": "xoyfXiF4kJ7f"
      },
      "outputs": [],
      "source": [
        "#hide\n",
        "! [ -e /content ] && pip install -Uqq fastbook\n",
        "import fastbook\n",
        "fastbook.setup_book()"
      ]
    },
    {
      "cell_type": "code",
      "execution_count": 6,
      "metadata": {
        "id": "RXC3h3yQkJ7g"
      },
      "outputs": [],
      "source": [
        "#hide\n",
        "from fastai.vision.all import *\n",
        "from fastbook import *\n",
        "import numpy as np\n",
        "import random\n",
        "matplotlib.rc('image', cmap='Greys_r')"
      ]
    },
    {
      "cell_type": "code",
      "source": [
        "num_rows = 200\n",
        "num_cols = 100\n",
        "vecs = [random.choices(range(5), k=num_cols)\n",
        " for _ in range(num_rows)]\n",
        "print(len(vecs))"
      ],
      "metadata": {
        "id": "PK_MlKp4k0Hn",
        "outputId": "cb62312e-0508-4427-aacf-3775818cf9d6",
        "colab": {
          "base_uri": "https://localhost:8080/"
        }
      },
      "execution_count": 7,
      "outputs": [
        {
          "output_type": "stream",
          "name": "stdout",
          "text": [
            "200\n"
          ]
        }
      ]
    },
    {
      "cell_type": "code",
      "source": [
        "def s_multiply(vec,scalar):\n",
        "  i = 0 \n",
        "  new_vec = [None] * len(vec)\n",
        "  while i < len(vec):\n",
        "    vec[i] * scalar\n",
        "    i += 1\n",
        "    return new_vec\n",
        "\n",
        "print(vecs[0])\n",
        "print(s_multiply(vecs[0], 5))"
      ],
      "metadata": {
        "id": "hUpM4W6eluci",
        "outputId": "27501354-c07a-417d-8d42-41667d32daed",
        "colab": {
          "base_uri": "https://localhost:8080/"
        }
      },
      "execution_count": 8,
      "outputs": [
        {
          "output_type": "stream",
          "name": "stdout",
          "text": [
            "[3, 0, 1, 1, 3, 3, 4, 0, 2, 0, 1, 2, 0, 0, 3, 2, 1, 2, 4, 0, 4, 3, 1, 0, 4, 1, 0, 0, 4, 3, 4, 3, 2, 4, 1, 2, 4, 3, 4, 2, 3, 0, 1, 1, 0, 1, 0, 1, 3, 1, 1, 1, 1, 4, 3, 3, 0, 3, 0, 1, 4, 3, 2, 3, 4, 3, 1, 0, 1, 1, 1, 4, 4, 1, 3, 1, 4, 2, 1, 1, 2, 1, 2, 4, 1, 1, 4, 2, 0, 0, 0, 3, 3, 2, 0, 1, 4, 2, 4, 4]\n",
            "[None, None, None, None, None, None, None, None, None, None, None, None, None, None, None, None, None, None, None, None, None, None, None, None, None, None, None, None, None, None, None, None, None, None, None, None, None, None, None, None, None, None, None, None, None, None, None, None, None, None, None, None, None, None, None, None, None, None, None, None, None, None, None, None, None, None, None, None, None, None, None, None, None, None, None, None, None, None, None, None, None, None, None, None, None, None, None, None, None, None, None, None, None, None, None, None, None, None, None, None]\n"
          ]
        }
      ]
    },
    {
      "cell_type": "markdown",
      "source": [
        "# MNIST"
      ],
      "metadata": {
        "id": "Qml-GxMenMFM"
      }
    },
    {
      "cell_type": "code",
      "execution_count": 12,
      "metadata": {
        "id": "7Ryh-VUMkJ7q"
      },
      "outputs": [],
      "source": [
        "path = untar_data(URLs.MNIST_SAMPLE)"
      ]
    },
    {
      "cell_type": "code",
      "execution_count": 13,
      "metadata": {
        "id": "M_BwQKGKkJ7q"
      },
      "outputs": [],
      "source": [
        "Path.BASE_PATH = path"
      ]
    },
    {
      "cell_type": "code",
      "execution_count": 14,
      "metadata": {
        "id": "ClmOBXsrkJ7q",
        "outputId": "d7859408-dd9f-4bf2-88ca-bafeda98b66e",
        "colab": {
          "base_uri": "https://localhost:8080/"
        }
      },
      "outputs": [
        {
          "output_type": "execute_result",
          "data": {
            "text/plain": [
              "(#3) [Path('train'),Path('labels.csv'),Path('valid')]"
            ]
          },
          "metadata": {},
          "execution_count": 14
        }
      ],
      "source": [
        "path.ls()"
      ]
    },
    {
      "cell_type": "code",
      "execution_count": 15,
      "metadata": {
        "id": "e7qdSvgKkJ7r",
        "outputId": "ba2ea64b-6383-47e5-fd70-433a99a7e54a",
        "colab": {
          "base_uri": "https://localhost:8080/"
        }
      },
      "outputs": [
        {
          "output_type": "execute_result",
          "data": {
            "text/plain": [
              "(#2) [Path('train/3'),Path('train/7')]"
            ]
          },
          "metadata": {},
          "execution_count": 15
        }
      ],
      "source": [
        "(path/'train').ls()"
      ]
    },
    {
      "cell_type": "code",
      "execution_count": 16,
      "metadata": {
        "id": "gJkMiFe0kJ7r",
        "outputId": "3d1c91f1-a145-46c2-ed8b-8e36909669e2",
        "colab": {
          "base_uri": "https://localhost:8080/"
        }
      },
      "outputs": [
        {
          "output_type": "execute_result",
          "data": {
            "text/plain": [
              "(#6131) [Path('train/3/10.png'),Path('train/3/10000.png'),Path('train/3/10011.png'),Path('train/3/10031.png'),Path('train/3/10034.png'),Path('train/3/10042.png'),Path('train/3/10052.png'),Path('train/3/1007.png'),Path('train/3/10074.png'),Path('train/3/10091.png')...]"
            ]
          },
          "metadata": {},
          "execution_count": 16
        }
      ],
      "source": [
        "threes = (path/'train'/'3').ls().sorted()\n",
        "sevens = (path/'train'/'7').ls().sorted()\n",
        "threes"
      ]
    },
    {
      "cell_type": "code",
      "execution_count": 17,
      "metadata": {
        "id": "9z4vfalIkJ7r",
        "outputId": "307068f3-f33f-4187-9501-298baae99ab5",
        "colab": {
          "base_uri": "https://localhost:8080/",
          "height": 45
        }
      },
      "outputs": [
        {
          "output_type": "execute_result",
          "data": {
            "text/plain": [
              "<PIL.PngImagePlugin.PngImageFile image mode=L size=28x28>"
            ],
            "image/png": "[encoded data removed]"
          },
          "metadata": {},
          "execution_count": 17
        }
      ],
      "source": [
        "im3_path = threes[1]\n",
        "im3 = Image.open(im3_path)\n",
        "im3"
      ]
    },
    {
      "cell_type": "code",
      "execution_count": null,
      "metadata": {
        "id": "EYb9JuRtkJ7s"
      },
      "outputs": [],
      "source": [
        "array(im3)[4:10,4:10]"
      ]
    },
    {
      "cell_type": "code",
      "execution_count": 18,
      "metadata": {
        "id": "GBaz5Ns9kJ7s",
        "outputId": "87c59d42-ebae-482d-9117-8acfbbb8072f",
        "colab": {
          "base_uri": "https://localhost:8080/"
        }
      },
      "outputs": [
        {
          "output_type": "execute_result",
          "data": {
            "text/plain": [
              "tensor([[  0,   0,   0,   0,   0,   0],\n",
              "        [  0,   0,   0,   0,   0,  29],\n",
              "        [  0,   0,   0,  48, 166, 224],\n",
              "        [  0,  93, 244, 249, 253, 187],\n",
              "        [  0, 107, 253, 253, 230,  48],\n",
              "        [  0,   3,  20,  20,  15,   0]], dtype=torch.uint8)"
            ]
          },
          "metadata": {},
          "execution_count": 18
        }
      ],
      "source": [
        "tensor(im3)[4:10,4:10]"
      ]
    },
    {
      "cell_type": "code",
      "execution_count": null,
      "metadata": {
        "id": "RezQYr0LkJ7s"
      },
      "outputs": [],
      "source": [
        "\n",
        "im3_t = tensor(im3)\n",
        "df = pd.DataFrame(im3_t[4:15,4:22])\n",
        "df.style.set_properties(**{'font-size':'6pt'}).background_gradient('Greys')"
      ]
    },
    {
      "cell_type": "markdown",
      "metadata": {
        "id": "Sc9aQAVckJ7s"
      },
      "source": [
        "## First Try: Pixel Similarity"
      ]
    },
    {
      "cell_type": "code",
      "execution_count": null,
      "metadata": {
        "id": "fjMj9gXckJ7t"
      },
      "outputs": [],
      "source": [
        "seven_tensors = [tensor(Image.open(o)) for o in sevens]\n",
        "three_tensors = [tensor(Image.open(o)) for o in threes]\n",
        "len(three_tensors),len(seven_tensors)"
      ]
    },
    {
      "cell_type": "code",
      "execution_count": null,
      "metadata": {
        "id": "ZX8oi-eUkJ7t"
      },
      "outputs": [],
      "source": [
        "show_image(three_tensors[1]);"
      ]
    },
    {
      "cell_type": "code",
      "source": [
        "stacked_sevens = torch.stack(seven_tensors).float()/255\n",
        "stacked_threes = torch.stack(three_tensors).float()/255\n",
        "stacked_threes.shape"
      ],
      "metadata": {
        "id": "rq7pPcbw995b"
      },
      "execution_count": null,
      "outputs": []
    },
    {
      "cell_type": "code",
      "source": [
        "sum = 0\n",
        "for ui, vi in zip(u,v):\n",
        "  sum += abs(ui - vi)\n",
        "\n",
        "(u - v).abs().sum()\n",
        "\n",
        "((u - v) **2).mean().sqrt()\n",
        "#Root Mean Squared Error\n"
      ],
      "metadata": {
        "id": "JHTJlN0ZSAq1"
      },
      "execution_count": null,
      "outputs": []
    },
    {
      "cell_type": "code",
      "source": [
        "valid_sevens = path/\"valid\"/\"7\".ls()\n",
        "valid_threes = path/\"valid\"/\"3\".ls()\n",
        "\n",
        "valid_seven_tensors = [tensor(Image.open(o)) for o in vaild_sevens]\n",
        "vaild_three_tensors = [tensor(Image.open(o)) for o in vaild_threes]\n",
        "\n",
        "valid_stacked_sevens = torch.stack(valid_seven_tensors).float()/255\n",
        "valid_stacked_threes = torch.stack(valid_three_tensors).float()/255"
      ],
      "metadata": {
        "id": "5J3z2NM28crb"
      },
      "execution_count": null,
      "outputs": []
    },
    {
      "cell_type": "code",
      "source": [
        "print(mnist_distance(valid_stacked_sevens[0], mean7))\n",
        "print(mnist_distance(valid_stacked_threes[0], mean3))"
      ],
      "metadata": {
        "id": "4u1hdK6P_DWm"
      },
      "execution_count": null,
      "outputs": []
    },
    {
      "cell_type": "code",
      "source": [
        "valid_3_dist = mnist_distance(valid_stacked_threes, mean3)\n",
        "valid_3_dist, valid_3_dist.shape"
      ],
      "metadata": {
        "id": "Xo4Io_VT_e7d"
      },
      "execution_count": null,
      "outputs": []
    },
    {
      "cell_type": "markdown",
      "source": [
        "#Gradient Descent\n"
      ],
      "metadata": {
        "id": "4512hXU6tH-q"
      }
    },
    {
      "cell_type": "code",
      "source": [
        "heights = tensor([16., 20., 22., 24., 40., 52., 53., 56., 63., 82.])\n",
        "flowers = tensor([2., 2., 3., 2., 4., 5., 6., 5., 6., 8.])"
      ],
      "metadata": {
        "id": "IKgQ2fHVtJ3i"
      },
      "execution_count": 19,
      "outputs": []
    },
    {
      "cell_type": "code",
      "source": [
        "plt.scatter(heights, flowers)"
      ],
      "metadata": {
        "id": "1vr-JVeTtTQ7",
        "outputId": "7e5f43d7-89e9-4f8e-df5a-47027ce2471f",
        "colab": {
          "base_uri": "https://localhost:8080/",
          "height": 286
        }
      },
      "execution_count": 23,
      "outputs": [
        {
          "output_type": "execute_result",
          "data": {
            "text/plain": [
              "<matplotlib.collections.PathCollection at 0x7fa9dba03ed0>"
            ]
          },
          "metadata": {},
          "execution_count": 23
        },
        {
          "output_type": "display_data",
          "data": {
            "text/plain": [
              "<Figure size 432x288 with 1 Axes>"
            ],
            "image/png": "[encoded data removed]"
          },
          "metadata": {
            "needs_background": "light"
          }
        }
      ]
    },
    {
      "cell_type": "code",
      "source": [
        "def predict(theta, x):\n",
        "  return theta * x "
      ],
      "metadata": {
        "id": "_GtrkwPivQD7"
      },
      "execution_count": 21,
      "outputs": []
    },
    {
      "cell_type": "code",
      "source": [
        "def loss(theta, x, y):\n",
        "  return ((predict(theta, x) - y) ** 2).mean()"
      ],
      "metadata": {
        "id": "V0DFXj1nv7Kj"
      },
      "execution_count": 24,
      "outputs": []
    },
    {
      "cell_type": "code",
      "source": [
        "theta = tensor([np.random.normal()]).requires_grad_()"
      ],
      "metadata": {
        "id": "4kcyoELHzt8u"
      },
      "execution_count": 25,
      "outputs": []
    },
    {
      "cell_type": "code",
      "source": [
        "L = loss(theta, heights, flowers)\n",
        "L"
      ],
      "metadata": {
        "id": "yVUXxAKa3sWT",
        "outputId": "d125e394-274b-4ba4-b640-ceedee9a6ab1",
        "colab": {
          "base_uri": "https://localhost:8080/"
        }
      },
      "execution_count": 26,
      "outputs": [
        {
          "output_type": "execute_result",
          "data": {
            "text/plain": [
              "tensor(127.5024, grad_fn=<MeanBackward0>)"
            ]
          },
          "metadata": {},
          "execution_count": 26
        }
      ]
    },
    {
      "cell_type": "code",
      "source": [
        "plt.scatter(heights, flowers, label = \"act\", color = \"aqua\")\n",
        "plt.plot(heights, predict(theta.detach(), heights), label = \"pred\")"
      ],
      "metadata": {
        "id": "nQUFqHOW3uYv",
        "outputId": "3207a20b-d0fb-4807-ce3f-e25d7b3fa63e",
        "colab": {
          "base_uri": "https://localhost:8080/",
          "height": 286
        }
      },
      "execution_count": 30,
      "outputs": [
        {
          "output_type": "execute_result",
          "data": {
            "text/plain": [
              "[<matplotlib.lines.Line2D at 0x7fa9dad2fdd0>]"
            ]
          },
          "metadata": {},
          "execution_count": 30
        },
        {
          "output_type": "display_data",
          "data": {
            "text/plain": [
              "<Figure size 432x288 with 1 Axes>"
            ],
            "image/png": "[encoded data removed]"
          },
          "metadata": {
            "needs_background": "light"
          }
        }
      ]
    },
    {
      "cell_type": "code",
      "source": [
        "L.backward()\n",
        "print(theta.grad)"
      ],
      "metadata": {
        "id": "3z5UMDel5Cgr"
      },
      "execution_count": null,
      "outputs": []
    }
  ],
  "metadata": {
    "jupytext": {
      "split_at_heading": true
    },
    "kernelspec": {
      "display_name": "Python 3 (ipykernel)",
      "language": "python",
      "name": "python3"
    },
    "colab": {
      "provenance": [],
      "include_colab_link": true
    },
    "accelerator": "GPU"
  },
  "nbformat": 4,
  "nbformat_minor": 0
}